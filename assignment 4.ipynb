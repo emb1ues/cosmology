{
 "cells": [
  {
   "cell_type": "code",
   "execution_count": 1,
   "id": "77a84dba",
   "metadata": {},
   "outputs": [],
   "source": [
    "from scipy.integrate import solve_ivp\n",
    "import matplotlib.pyplot as plt\n",
    "import numpy as np"
   ]
  },
  {
   "cell_type": "markdown",
   "id": "05661592",
   "metadata": {},
   "source": [
    "# Q1"
   ]
  },
  {
   "cell_type": "code",
   "execution_count": 2,
   "id": "3b36511a",
   "metadata": {},
   "outputs": [],
   "source": [
    "def avst(t,a,omegaM, omegaDE):\n",
    "    H = 1\n",
    "    omegaT = omegaM + omegaDE\n",
    "    return a*H*np.sqrt((omegaM/(a**3)) + omegaDE + ((1-omegaT)/(a**2)))"
   ]
  },
  {
   "cell_type": "code",
   "execution_count": 35,
   "id": "9b386769",
   "metadata": {
    "scrolled": true
   },
   "outputs": [
    {
     "name": "stderr",
     "output_type": "stream",
     "text": [
      "/tmp/ipykernel_1272187/302160107.py:4: RuntimeWarning: overflow encountered in power\n",
      "  return a*H*np.sqrt((omegaM/(a**3)) + omegaDE + ((1-omegaT)/(a**2)))\n",
      "/tmp/ipykernel_1272187/302160107.py:4: RuntimeWarning: overflow encountered in square\n",
      "  return a*H*np.sqrt((omegaM/(a**3)) + omegaDE + ((1-omegaT)/(a**2)))\n"
     ]
    }
   ],
   "source": [
    "sol1 = solve_ivp(avst, [1,100], [1], args=(1,0), dense_output=True)\n",
    "sol2 = solve_ivp(avst, [1,100], [1], args=(0,0), dense_output=True)\n",
    "sol3 = solve_ivp(avst, [1,100], [complex(1,0)], args=(3,0), dense_output=True)\n",
    "sol4 = solve_ivp(avst, [1,100], [1], args=(0.27,0.73), dense_output=True)"
   ]
  },
  {
   "cell_type": "code",
   "execution_count": 33,
   "id": "5175da4c",
   "metadata": {},
   "outputs": [
    {
     "name": "stderr",
     "output_type": "stream",
     "text": [
      "/usr/lib/python3.9/site-packages/numpy/core/_asarray.py:102: ComplexWarning: Casting complex values to real discards the imaginary part\n",
      "  return array(a, dtype, copy=False, order=order)\n"
     ]
    },
    {
     "data": {
      "image/png": "[encoded data removed]",
      "text/plain": [
       "<Figure size 432x288 with 1 Axes>"
      ]
     },
     "metadata": {
      "needs_background": "light"
     },
     "output_type": "display_data"
    }
   ],
   "source": [
    "t = np.linspace(1,3,300)\n",
    "z1 = sol1.sol(t)\n",
    "z2 = sol2.sol(t)\n",
    "z3 = sol3.sol(t)\n",
    "z4 = sol4.sol(t)\n",
    "\n",
    "\n",
    "plt.plot(t, z1.T, '.b', label='(M,R)=(1,0)')\n",
    "plt.plot(t, z2.T, '.g', label='(M,R)=(0,0)')\n",
    "plt.plot(t, z3.T, '.r', label='(M,R)=(3,0)')\n",
    "plt.plot(t, z4.T, '.y', label='(M,R)=(0.27,0.73)')\n",
    "plt.legend()\n",
    "plt.xlabel('time')\n",
    "plt.ylabel('scale factor')\n",
    "\n",
    "plt.show()"
   ]
  },
  {
   "cell_type": "markdown",
   "id": "24712e43",
   "metadata": {},
   "source": [
    "# Q3"
   ]
  },
  {
   "cell_type": "code",
   "execution_count": 36,
   "id": "94a5b074",
   "metadata": {},
   "outputs": [
    {
     "data": {
      "image/png": "[encoded data removed]",
      "text/plain": [
       "<Figure size 432x288 with 1 Axes>"
      ]
     },
     "metadata": {
      "needs_background": "light"
     },
     "output_type": "display_data"
    }
   ],
   "source": [
    "sol5 = solve_ivp(avst, [1,10], [1], args=(0.3,0.7), dense_output=True)\n",
    "t = np.linspace(1,200,100)\n",
    "z5 = sol5.sol(t)\n",
    "z6 = np.gradient(z5[0])\n",
    "z7 = z5/z6\n",
    "plt.plot(t, z5.T, '.b', label='a')\n",
    "plt.plot(t, z6.T, '.y', label='a\\'')\n",
    "plt.plot(t, z7.T, '.g', label='a/a\\'')\n",
    "\n",
    "plt.legend()\n",
    "\n",
    "plt.show()\n"
   ]
  },
  {
   "cell_type": "code",
   "execution_count": null,
   "id": "041a1cb7",
   "metadata": {},
   "outputs": [],
   "source": []
  }
 ],
 "metadata": {
  "kernelspec": {
   "display_name": "Python 3 (ipykernel)",
   "language": "python",
   "name": "python3"
  },
  "language_info": {
   "codemirror_mode": {
    "name": "ipython",
    "version": 3
   },
   "file_extension": ".py",
   "mimetype": "text/x-python",
   "name": "python",
   "nbconvert_exporter": "python",
   "pygments_lexer": "ipython3",
   "version": "3.9.6"
  }
 },
 "nbformat": 4,
 "nbformat_minor": 5
}
